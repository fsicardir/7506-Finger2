{
 "cells": [
  {
   "cell_type": "markdown",
   "metadata": {},
   "source": [
    "# **Finger 2**"
   ]
  },
  {
   "cell_type": "code",
   "execution_count": 1,
   "metadata": {},
   "outputs": [],
   "source": [
    "from pyspark import SparkContext, SparkConf\n",
    "from pyspark.sql import SQLContext\n",
    "import os\n",
    "from heapq import nlargest\n",
    "\n",
    "os.environ['PYSPARK_PYTHON'] = '/usr/bin/python3'"
   ]
  },
  {
   "cell_type": "code",
   "execution_count": 2,
   "metadata": {},
   "outputs": [],
   "source": [
    "conf = SparkConf().setAppName('Finger 2').setMaster('local')\n",
    "sc = SparkContext(conf=conf)\n",
    "sqlContext = SQLContext(sc)"
   ]
  },
  {
   "cell_type": "code",
   "execution_count": 3,
   "metadata": {},
   "outputs": [],
   "source": [
    "df = sqlContext.read.csv('events.csv')"
   ]
  },
  {
   "cell_type": "markdown",
   "metadata": {},
   "source": [
    "# **Punto 1**: tipo de envento predominante"
   ]
  },
  {
   "cell_type": "code",
   "execution_count": 4,
   "metadata": {},
   "outputs": [
    {
     "name": "stdout",
     "output_type": "stream",
     "text": [
      "El evento predominante es 'viewed product', con 528931 apariciones.\n"
     ]
    }
   ],
   "source": [
    "evento, frecuencia = df.rdd.map(lambda x: (x[1], 1)).reduceByKey(lambda x, y: x + y).reduce(lambda x, y: x if (x[1] > y[1]) else y)\n",
    "print(\"El evento predominante es '{}', con {} apariciones.\".format(evento, frecuencia))"
   ]
  },
  {
   "cell_type": "markdown",
   "metadata": {},
   "source": [
    "# **Punto 2**: cinco smartphones mas visitados"
   ]
  },
  {
   "cell_type": "code",
   "execution_count": 5,
   "metadata": {},
   "outputs": [
    {
     "data": {
      "text/plain": [
       "[('iPhone 6', 47538),\n",
       " ('iPhone 5s', 42045),\n",
       " ('iPhone 6S', 36930),\n",
       " ('iPhone 7', 26330),\n",
       " ('Samsung Galaxy S7 Edge', 23062)]"
      ]
     },
     "execution_count": 5,
     "metadata": {},
     "output_type": "execute_result"
    }
   ],
   "source": [
    "df.rdd.filter(lambda x: (x[1] == 'viewed product')) \\\n",
    "            .map(lambda x: (x[5], 1)).reduceByKey(lambda x, y: x + y).takeOrdered(5, key=lambda x: -x[1])"
   ]
  },
  {
   "cell_type": "markdown",
   "metadata": {},
   "source": [
    "Este metodo no es muy eficiente, ya que ordena todo. El siguente metodo carga las cantidades de los distintos modelos en memoria y utiliza nlargest para obtener los 5 mayores (O(n log(5))."
   ]
  },
  {
   "cell_type": "code",
   "execution_count": 6,
   "metadata": {},
   "outputs": [],
   "source": [
    "visitas = df.rdd.filter(lambda x: (x[1] == 'viewed product')) \\\n",
    "            .map(lambda x: (x[5], 1)).reduceByKey(lambda x, y: x + y).collect()"
   ]
  },
  {
   "cell_type": "code",
   "execution_count": 7,
   "metadata": {},
   "outputs": [
    {
     "data": {
      "text/plain": [
       "[('iPhone 6', 47538),\n",
       " ('iPhone 5s', 42045),\n",
       " ('iPhone 6S', 36930),\n",
       " ('iPhone 7', 26330),\n",
       " ('Samsung Galaxy S7 Edge', 23062)]"
      ]
     },
     "execution_count": 7,
     "metadata": {},
     "output_type": "execute_result"
    }
   ],
   "source": [
    "nlargest(5, visitas, key=lambda x: x[1])"
   ]
  },
  {
   "cell_type": "markdown",
   "metadata": {},
   "source": [
    "### Comparacion de los metodos"
   ]
  },
  {
   "cell_type": "code",
   "execution_count": 8,
   "metadata": {},
   "outputs": [
    {
     "name": "stdout",
     "output_type": "stream",
     "text": [
      "9.21 s ± 117 ms per loop (mean ± std. dev. of 7 runs, 1 loop each)\n"
     ]
    }
   ],
   "source": [
    "%%timeit\n",
    "%%capture\n",
    "df.rdd.filter(lambda x: (x[1] == 'viewed product')) \\\n",
    "            .map(lambda x: (x[5], 1)).reduceByKey(lambda x, y: x + y).takeOrdered(5, key=lambda x: -x[1])"
   ]
  },
  {
   "cell_type": "code",
   "execution_count": 9,
   "metadata": {},
   "outputs": [
    {
     "name": "stdout",
     "output_type": "stream",
     "text": [
      "9.17 s ± 55.8 ms per loop (mean ± std. dev. of 7 runs, 1 loop each)\n"
     ]
    }
   ],
   "source": [
    "%%timeit\n",
    "df.rdd.filter(lambda x: (x[1] == 'viewed product')) \\\n",
    "            .map(lambda x: (x[5], 1)).reduceByKey(lambda x, y: x + y).collect()\n",
    "nlargest(5, visitas, key=lambda x: x[1])"
   ]
  },
  {
   "cell_type": "markdown",
   "metadata": {},
   "source": [
    "El segundo metodo es mas eficiente en cuanto a velocidad, aunque por poco, seguramente debido a que la lista de resultados no es muy larga.\n",
    "Sin embargo, si uno no puede cargar la lista de modelos por cantidad en memoria, se veria obligado a utilizar el primer metodo."
   ]
  }
 ],
 "metadata": {
  "kernelspec": {
   "display_name": "Python 3",
   "language": "python",
   "name": "python3"
  },
  "language_info": {
   "codemirror_mode": {
    "name": "ipython",
    "version": 3
   },
   "file_extension": ".py",
   "mimetype": "text/x-python",
   "name": "python",
   "nbconvert_exporter": "python",
   "pygments_lexer": "ipython3",
   "version": "3.6.5"
  }
 },
 "nbformat": 4,
 "nbformat_minor": 2
}
